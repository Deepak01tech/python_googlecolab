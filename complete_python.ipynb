{
  "nbformat": 4,
  "nbformat_minor": 0,
  "metadata": {
    "colab": {
      "provenance": [],
      "authorship_tag": "ABX9TyPiTIEy5GfPEfOijDMRUoEK"
    },
    "kernelspec": {
      "name": "python3",
      "display_name": "Python 3"
    },
    "language_info": {
      "name": "python"
    }
  },
  "cells": [
    {
      "cell_type": "code",
      "execution_count": null,
      "metadata": {
        "colab": {
          "base_uri": "https://localhost:8080/"
        },
        "id": "nfk8sj0d6C3B",
        "outputId": "9d8ab651-da0a-4f3b-85a0-ca944f658e46"
      },
      "outputs": [
        {
          "output_type": "stream",
          "name": "stdout",
          "text": [
            "Mounted at /content/drive\n"
          ]
        }
      ],
      "source": [
        "from google.colab import drive\n",
        "drive.mount('/content/drive')\n"
      ]
    },
    {
      "cell_type": "code",
      "source": [
        "!apt-get install git\n"
      ],
      "metadata": {
        "colab": {
          "base_uri": "https://localhost:8080/"
        },
        "id": "DercaL2fI-Dr",
        "outputId": "135ab594-bcda-4b8b-9c01-2cce3f3e4a27"
      },
      "execution_count": null,
      "outputs": [
        {
          "output_type": "stream",
          "name": "stdout",
          "text": [
            "Reading package lists... Done\n",
            "Building dependency tree... Done\n",
            "Reading state information... Done\n",
            "git is already the newest version (1:2.34.1-1ubuntu1.11).\n",
            "0 upgraded, 0 newly installed, 0 to remove and 49 not upgraded.\n"
          ]
        }
      ]
    },
    {
      "cell_type": "code",
      "source": [
        "for i in range(1,20):\n",
        "  print(\"deep\",end=\" \")"
      ],
      "metadata": {
        "colab": {
          "base_uri": "https://localhost:8080/"
        },
        "id": "vByXaUSq6UV0",
        "outputId": "a9405948-4285-4196-9c96-4b00afbc1a4e"
      },
      "execution_count": null,
      "outputs": [
        {
          "output_type": "stream",
          "name": "stdout",
          "text": [
            "deep deep deep deep deep deep deep deep deep deep deep deep deep deep deep deep deep deep deep "
          ]
        }
      ]
    },
    {
      "cell_type": "code",
      "source": [],
      "metadata": {
        "id": "rvz_hqhNI8qi"
      },
      "execution_count": null,
      "outputs": []
    },
    {
      "cell_type": "code",
      "source": [
        "for i in range(1,20):\n",
        "  for j in range(1,20):\n",
        "    print(\"deep\",end=\" \")\n",
        "  print()\n"
      ],
      "metadata": {
        "colab": {
          "base_uri": "https://localhost:8080/"
        },
        "id": "trGdgxNT6WuN",
        "outputId": "720a209d-3be0-44c1-8e01-e92cbfb0fa44"
      },
      "execution_count": null,
      "outputs": [
        {
          "output_type": "stream",
          "name": "stdout",
          "text": [
            "deep deep deep deep deep deep deep deep deep deep deep deep deep deep deep deep deep deep deep \n",
            "deep deep deep deep deep deep deep deep deep deep deep deep deep deep deep deep deep deep deep \n",
            "deep deep deep deep deep deep deep deep deep deep deep deep deep deep deep deep deep deep deep \n",
            "deep deep deep deep deep deep deep deep deep deep deep deep deep deep deep deep deep deep deep \n",
            "deep deep deep deep deep deep deep deep deep deep deep deep deep deep deep deep deep deep deep \n",
            "deep deep deep deep deep deep deep deep deep deep deep deep deep deep deep deep deep deep deep \n",
            "deep deep deep deep deep deep deep deep deep deep deep deep deep deep deep deep deep deep deep \n",
            "deep deep deep deep deep deep deep deep deep deep deep deep deep deep deep deep deep deep deep \n",
            "deep deep deep deep deep deep deep deep deep deep deep deep deep deep deep deep deep deep deep \n",
            "deep deep deep deep deep deep deep deep deep deep deep deep deep deep deep deep deep deep deep \n",
            "deep deep deep deep deep deep deep deep deep deep deep deep deep deep deep deep deep deep deep \n",
            "deep deep deep deep deep deep deep deep deep deep deep deep deep deep deep deep deep deep deep \n",
            "deep deep deep deep deep deep deep deep deep deep deep deep deep deep deep deep deep deep deep \n",
            "deep deep deep deep deep deep deep deep deep deep deep deep deep deep deep deep deep deep deep \n",
            "deep deep deep deep deep deep deep deep deep deep deep deep deep deep deep deep deep deep deep \n",
            "deep deep deep deep deep deep deep deep deep deep deep deep deep deep deep deep deep deep deep \n",
            "deep deep deep deep deep deep deep deep deep deep deep deep deep deep deep deep deep deep deep \n",
            "deep deep deep deep deep deep deep deep deep deep deep deep deep deep deep deep deep deep deep \n",
            "deep deep deep deep deep deep deep deep deep deep deep deep deep deep deep deep deep deep deep \n"
          ]
        }
      ]
    },
    {
      "cell_type": "code",
      "source": [
        "# prompt: upper traingular pyramid\n",
        "\n",
        "n = 5  # Change this value to adjust the pyramid size\n",
        "\n",
        "for i in range(1, n + 1):\n",
        "  for j in range(1, n - i + 1):\n",
        "    print(\" \", end=\"\")\n",
        "  for k in range(1, i + 1):\n",
        "    print(\"*\", end=\"\")\n",
        "  print()\n"
      ],
      "metadata": {
        "id": "nbvTunjz6sLo",
        "colab": {
          "base_uri": "https://localhost:8080/"
        },
        "outputId": "d5bbeb4e-d34e-4460-f73d-4849f616a3dc"
      },
      "execution_count": null,
      "outputs": [
        {
          "output_type": "stream",
          "name": "stdout",
          "text": [
            "    *\n",
            "   **\n",
            "  ***\n",
            " ****\n",
            "*****\n"
          ]
        }
      ]
    },
    {
      "cell_type": "code",
      "source": [
        "# prompt: lower taigular pyramid\n",
        "\n",
        "n = 5  # Change this value to adjust the pyramid size\n",
        "\n",
        "for i in range(n, 0, -1):\n",
        "  for j in range(1, n - i + 1):\n",
        "    print(\" \", end=\"\")\n",
        "  for k in range(1, i + 1):\n",
        "    print(\"*\", end=\"\")\n",
        "  print()\n"
      ],
      "metadata": {
        "colab": {
          "base_uri": "https://localhost:8080/"
        },
        "id": "ajo89kDH_3ow",
        "outputId": "8d3f0f51-1981-4b4a-8b51-3d074d925359"
      },
      "execution_count": null,
      "outputs": [
        {
          "output_type": "stream",
          "name": "stdout",
          "text": [
            "*****\n",
            " ****\n",
            "  ***\n",
            "   **\n",
            "    *\n"
          ]
        }
      ]
    },
    {
      "cell_type": "code",
      "source": [
        "# prompt: count the string with spaces\n",
        "\n",
        "def count_string_with_spaces(text):\n",
        "  \"\"\"\n",
        "  Counts the number of characters in a string, including spaces.\n",
        "  \"\"\"\n",
        "  return len(text)\n",
        "\n",
        "# Example usage\n",
        "text = \"Hello World!\"\n",
        "count = count_string_with_spaces(text)\n",
        "print(f\"The string '{text}' has {count} characters.\")\n"
      ],
      "metadata": {
        "colab": {
          "base_uri": "https://localhost:8080/"
        },
        "id": "QZK-PQy6_8jH",
        "outputId": "6ec18c61-6883-4a91-92e0-e5832fb9572d"
      },
      "execution_count": null,
      "outputs": [
        {
          "output_type": "stream",
          "name": "stdout",
          "text": [
            "The string 'Hello World!' has 12 characters.\n"
          ]
        }
      ]
    },
    {
      "cell_type": "code",
      "source": [
        "# prompt: reverse the string with spaces\n",
        "\n",
        "def reverse_string_with_spaces(text):\n",
        "  \"\"\"\n",
        "  Reverses a string while preserving spaces.\n",
        "  \"\"\"\n",
        "  return text[::-1]\n",
        "\n",
        "# Example usage\n",
        "text = \"Hello World!\"\n",
        "reversed_text = reverse_string_with_spaces(text)\n",
        "print(f\"The reversed string is: {reversed_text}\")\n"
      ],
      "metadata": {
        "colab": {
          "base_uri": "https://localhost:8080/"
        },
        "id": "D6JvOCm_cBt2",
        "outputId": "f3108c74-49f7-4654-c77c-92579674d7e8"
      },
      "execution_count": null,
      "outputs": [
        {
          "output_type": "stream",
          "name": "stdout",
          "text": [
            "The reversed string is: !dlroW olleH\n"
          ]
        }
      ]
    },
    {
      "cell_type": "code",
      "source": [
        "# prompt: reverse the string with spaces without using inbuilt function\n",
        "\n",
        "def reverse_string_with_spaces(text):\n",
        "  \"\"\"\n",
        "  Reverses a string while preserving spaces without using inbuilt functions.\n",
        "  \"\"\"\n",
        "  result = \"\"\n",
        "  for i in range(len(text) - 1, -1, -1):\n",
        "    result += text[i]\n",
        "  return result\n",
        "\n",
        "# Example usage\n",
        "text = \"Hello World!\"\n",
        "reversed_text = reverse_string_with_spaces(text)\n",
        "print(f\"The reversed string is: {reversed_text}\")\n"
      ],
      "metadata": {
        "colab": {
          "base_uri": "https://localhost:8080/"
        },
        "id": "UxxHE4-Cchlh",
        "outputId": "9bc0cf88-0848-433f-d2e4-80f410a6ae7a"
      },
      "execution_count": null,
      "outputs": [
        {
          "output_type": "stream",
          "name": "stdout",
          "text": [
            "The reversed string is: !dlroW olleH\n"
          ]
        }
      ]
    },
    {
      "cell_type": "code",
      "source": [
        "\n"
      ],
      "metadata": {
        "id": "4BppOQSfcrvm"
      },
      "execution_count": null,
      "outputs": []
    },
    {
      "cell_type": "code",
      "source": [
        "# prompt: reverse the string using inbuilt function\n",
        "\n",
        "def reverse_string(text):\n",
        "  \"\"\"\n",
        "  Reverses a string using the built-in reversed() function.\n",
        "  \"\"\"\n",
        "  return ''.join(reversed(text))\n",
        "\n",
        "# Example usage\n",
        "text = \"Hello World!\"\n",
        "reversed_text = reverse_string(text)\n",
        "print(f\"The reversed string is: {reversed_text}\")\n"
      ],
      "metadata": {
        "colab": {
          "base_uri": "https://localhost:8080/"
        },
        "id": "IZTdpfzeczSC",
        "outputId": "40ca36ca-a1b8-4dac-fe43-62c6128f8e37"
      },
      "execution_count": null,
      "outputs": [
        {
          "output_type": "stream",
          "name": "stdout",
          "text": [
            "The reversed string is: !dlroW olleH\n"
          ]
        }
      ]
    },
    {
      "cell_type": "markdown",
      "source": [
        "liked list structure\n",
        "\n"
      ],
      "metadata": {
        "id": "z-_SKUTLCtah"
      }
    },
    {
      "cell_type": "code",
      "source": [
        "class node():\n",
        "  def __init__(self,k):\n",
        "    self.key=k\n",
        "    self.next=None\n"
      ],
      "metadata": {
        "id": "UvEPtLWsc9PI"
      },
      "execution_count": null,
      "outputs": []
    },
    {
      "cell_type": "code",
      "source": [],
      "metadata": {
        "id": "TZzeXV-pGo1I"
      },
      "execution_count": null,
      "outputs": []
    }
  ]
}